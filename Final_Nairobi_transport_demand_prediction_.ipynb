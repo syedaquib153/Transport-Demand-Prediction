{
  "nbformat": 4,
  "nbformat_minor": 0,
  "metadata": {
    "colab": {
      "name": "Final- Nairobi  transport  demand prediction  .ipynb",
      "provenance": [],
      "collapsed_sections": [],
      "include_colab_link": true
    },
    "kernelspec": {
      "name": "python3",
      "display_name": "Python 3"
    },
    "language_info": {
      "name": "python"
    }
  },
  "cells": [
    {
      "cell_type": "markdown",
      "metadata": {
        "id": "view-in-github",
        "colab_type": "text"
      },
      "source": [
        "<a href=\"https://colab.research.google.com/github/syedaquib153/Transport-Demand-Prediction/blob/main/Final_Nairobi_transport_demand_prediction_.ipynb\" target=\"_parent\"><img src=\"https://colab.research.google.com/assets/colab-badge.svg\" alt=\"Open In Colab\"/></a>"
      ]
    },
    {
      "cell_type": "markdown",
      "source": [
        "# <b><u> Project Title : Traffic Jam: Predicting People's Movement into Nairobi </u></b>\n",
        "\n"
      ],
      "metadata": {
        "id": "xaDm7jFhz-4T"
      }
    },
    {
      "cell_type": "markdown",
      "source": [
        "## <b> Problem Description </b>\n",
        "\n",
        "### This challenge asks you to build a model that predicts the number of seats that Mobiticket can expect to sell for each ride, i.e. for a specific route on a specific date and time. There are 14 routes in this dataset. All of the routes end in Nairobi and originate in towns to the North-West of Nairobi towards Lake Victoria.\n",
        "\n",
        "\n",
        "### The towns from which these routes originate are:\n",
        "\n",
        "* Awendo\n",
        "* Homa Bay\n",
        "* Kehancha\n",
        "* Kendu Bay\n",
        "* Keroka\n",
        "* Keumbu\n",
        "* Kijauri\n",
        "* Kisii\n",
        "* Mbita\n",
        "* Migori\n",
        "* Ndhiwa\n",
        "* Nyachenge\n",
        "* Oyugis\n",
        "* Rodi\n",
        "* Rongo\n",
        "* Sirare\n",
        "* Sori\n",
        "\n",
        "### The routes from these 14 origins to the first stop in the outskirts of Nairobi takes approximately 8 to 9 hours from time of departure. From the first stop in the outskirts of Nairobi into the main bus terminal, where most passengers get off, in Central Business District, takes another 2 to 3 hours depending on traffic.\n",
        "\n",
        "### The three stops that all these routes make in Nairobi (in order) are:\n",
        "\n",
        "1. Kawangware: the first stop in the outskirts of Nairobi\n",
        "2. Westlands\n",
        "3. Afya Centre: the main bus terminal where most passengers disembark\n",
        "\n",
        "### All of these points are mapped [here](https://www.google.com/maps/d/viewer?mid=1Ef2pFdP8keVHHid8bwju2raoRvjOGagN&ll=-0.8281897101491997%2C35.51706279999996&z=8).\n",
        "\n",
        "### Passengers of these bus (or shuttle) rides are affected by Nairobi traffic not only during their ride into the city, but from there they must continue their journey to their final destination in Nairobi wherever that may be. Traffic can act as a deterrent for those who have the option to avoid buses that arrive in Nairobi during peak traffic hours. On the other hand, traffic may be an indication for people’s movement patterns, reflecting business hours, cultural events, political events, and holidays."
      ],
      "metadata": {
        "id": "w5-LUhNv0LBA"
      }
    },
    {
      "cell_type": "markdown",
      "source": [
        "## <b> Data Description </b>\n",
        "\n",
        "### <b>Nairobi Transport Data.csv (zipped)</b> is the dataset of tickets purchased from Mobiticket for the 14 routes from “up country” into Nairobi between 17 October 2017 and 20 April 2018. This dataset includes the variables: ride_id, seat_number, payment_method, payment_receipt, travel_date, travel_time, travel_from, travel_to, car_type, max_capacity.\n",
        "\n",
        "\n",
        "### Uber Movement traffic data can be accessed [here](https://movement.uber.com). Data is available for Nairobi through June 2018. Uber Movement provided historic hourly travel time between any two points in Nairobi. Any tables that are extracted from the Uber Movement platform can be used in your model.\n",
        "\n",
        "### Variables description:\n",
        "\n",
        "* #### ride_id: unique ID of a vehicle on a specific route on a specific day and time.\n",
        "* #### seat_number: seat assigned to ticket\n",
        "* #### payment_method: method used by customer to purchase ticket from Mobiticket (cash or Mpesa)\n",
        "* #### payment_receipt: unique id number for ticket purchased from Mobiticket\n",
        "* #### travel_date: date of ride departure. (MM/DD/YYYY)\n",
        "* #### travel_time: scheduled departure time of ride. Rides generally depart on time. (hh:mm)\n",
        "* #### travel_from: town from which ride originated\n",
        "* #### travel_to: destination of ride. All rides are to Nairobi.\n",
        "* #### car_type: vehicle type (shuttle or bus)\n",
        "* #### max_capacity: number of seats on the vehicle"
      ],
      "metadata": {
        "id": "SRF8bn-70Pky"
      }
    },
    {
      "cell_type": "markdown",
      "source": [
        "Importing libraries"
      ],
      "metadata": {
        "id": "ZPaLCik20VQ5"
      }
    },
    {
      "cell_type": "code",
      "source": [
        "#Importing Libraries "
      ],
      "metadata": {
        "id": "w5t6VUB9v-we"
      },
      "execution_count": null,
      "outputs": []
    },
    {
      "cell_type": "code",
      "execution_count": null,
      "metadata": {
        "id": "G-zd2sdg3SdB"
      },
      "outputs": [],
      "source": [
        "import numpy as np\n",
        "import pandas as pd\n",
        "import matplotlib.pyplot as plt\n",
        "%matplotlib inline\n",
        "import seaborn as sns\n",
        "import datetime"
      ]
    },
    {
      "cell_type": "code",
      "source": [
        "#Mounting Drive"
      ],
      "metadata": {
        "id": "zW2f9YgpwMgx"
      },
      "execution_count": null,
      "outputs": []
    },
    {
      "cell_type": "code",
      "source": [
        "from google.colab import drive\n",
        "drive.mount('/content/drive')"
      ],
      "metadata": {
        "id": "O4Q3ai-A32hn"
      },
      "execution_count": null,
      "outputs": []
    },
    {
      "cell_type": "code",
      "source": [
        "# Importing csv file using pandas .read_csv() function\n",
        "df_1=pd.read_csv('/content/drive/MyDrive/excel/train_revised.csv')"
      ],
      "metadata": {
        "id": "mrBy1Ork3_TJ"
      },
      "execution_count": null,
      "outputs": []
    },
    {
      "cell_type": "code",
      "source": [
        "# checking Head of the Dataframe using .head() function\n",
        "df_1.head(5)"
      ],
      "metadata": {
        "id": "gPBmgDYJcLTO"
      },
      "execution_count": null,
      "outputs": []
    },
    {
      "cell_type": "markdown",
      "source": [
        "**Data Pre Processing**"
      ],
      "metadata": {
        "id": "b7Gr8LxycwCu"
      }
    },
    {
      "cell_type": "code",
      "source": [
        "# Checking information of d1_1.info()\n",
        "df_1.info()"
      ],
      "metadata": {
        "id": "ZK1r6Iq6cOuV"
      },
      "execution_count": null,
      "outputs": []
    },
    {
      "cell_type": "code",
      "source": [
        "# Checking rows and columns present in df_1\n",
        "df_1.shape"
      ],
      "metadata": {
        "id": "EDlc8GkvcR4l"
      },
      "execution_count": null,
      "outputs": []
    },
    {
      "cell_type": "code",
      "source": [
        "# Checking describtion of df_1 it gives count,mean,std,min etc\n",
        "df_1.describe()"
      ],
      "metadata": {
        "id": "QZNBXU0rcZZn"
      },
      "execution_count": null,
      "outputs": []
    },
    {
      "cell_type": "code",
      "source": [
        "#Checking Null values\n",
        "df_1.isnull().sum()"
      ],
      "metadata": {
        "id": "sPd1NyLFcj6f"
      },
      "execution_count": null,
      "outputs": []
    },
    {
      "cell_type": "markdown",
      "source": [
        "**Data Visualization**"
      ],
      "metadata": {
        "id": "hKKdKw7Vc3c7"
      }
    },
    {
      "cell_type": "code",
      "source": [
        "plt.rcParams[\"figure.figsize\"] = [10, 5]"
      ],
      "metadata": {
        "id": "duT5oGZNfjgK"
      },
      "execution_count": null,
      "outputs": []
    },
    {
      "cell_type": "code",
      "source": [
        "#Getting Insights of Data by plotting countplot\n",
        "plots_count_columns=['car_type','max_capacity','payment_method']\n",
        "for plots in plots_count_columns:\n",
        "  sns.countplot(df_1[plots])\n",
        "  plt.show()\n"
      ],
      "metadata": {
        "id": "pgtzsTRMcqVX"
      },
      "execution_count": null,
      "outputs": []
    },
    {
      "cell_type": "markdown",
      "source": [
        "Inference:\n",
        "\n",
        "1.   There are two type of cars . The most used is Bus with Maximun capacity of 49.\n",
        "2.   There are two modes of payments Mpesa and Cash. The most used is Mpesa."
      ],
      "metadata": {
        "id": "JrpCSugIR0cS"
      }
    },
    {
      "cell_type": "code",
      "source": [
        "#plotting Distplot and Boxplot graphs"
      ],
      "metadata": {
        "id": "t3vHEAjSxVGx"
      },
      "execution_count": null,
      "outputs": []
    },
    {
      "cell_type": "code",
      "source": [
        "fig, axes = plt.subplots(1,2,figsize=(10,5))\n",
        "sns.distplot(df_1['ride_id'], ax=axes[0])\n",
        "sns.boxplot(df_1['ride_id'], ax=axes[1])"
      ],
      "metadata": {
        "id": "bgm3k6qjjBHt"
      },
      "execution_count": null,
      "outputs": []
    },
    {
      "cell_type": "code",
      "source": [
        "fig, axes = plt.subplots(1,2,figsize=(10,5))\n",
        "sns.distplot(df_1['max_capacity'], ax=axes[0])\n",
        "sns.boxplot(df_1['max_capacity'], ax=axes[1])"
      ],
      "metadata": {
        "id": "I1AWGdFtjuBF"
      },
      "execution_count": null,
      "outputs": []
    },
    {
      "cell_type": "markdown",
      "source": [
        "Inference: Maximum Capacity of Bus is 49"
      ],
      "metadata": {
        "id": "Dg4thzCwSN41"
      }
    },
    {
      "cell_type": "code",
      "source": [
        "plt.rcParams[\"figure.figsize\"] = [15, 5]"
      ],
      "metadata": {
        "id": "NalhhSkEdZKc"
      },
      "execution_count": null,
      "outputs": []
    },
    {
      "cell_type": "code",
      "source": [
        "#Plotting countplot to count max values\n",
        "sns.countplot(df_1['travel_from'])\n",
        "plt.show()"
      ],
      "metadata": {
        "id": "uZu9JICbdjEo"
      },
      "execution_count": null,
      "outputs": []
    },
    {
      "cell_type": "markdown",
      "source": [
        "Inference: Maximum People travelling from Kissi"
      ],
      "metadata": {
        "id": "-jl9so8ySU1i"
      }
    },
    {
      "cell_type": "code",
      "source": [
        "# Grouping the ride_id and seat_numbers to get Targetvariable"
      ],
      "metadata": {
        "id": "-PeZKALmxpoa"
      },
      "execution_count": null,
      "outputs": []
    },
    {
      "cell_type": "code",
      "source": [
        "target=df_1.groupby(['ride_id']).seat_number.count().rename('Tickets').reset_index()\n",
        "target=target.drop_duplicates('ride_id')"
      ],
      "metadata": {
        "id": "COT54ACq40Uf"
      },
      "execution_count": null,
      "outputs": []
    },
    {
      "cell_type": "code",
      "source": [
        "#Mergging data using leftjoin"
      ],
      "metadata": {
        "id": "Ho4Kh-8e4r0f"
      },
      "execution_count": null,
      "outputs": []
    },
    {
      "cell_type": "code",
      "source": [
        "df=df_1.merge(target,how='left',on='ride_id')"
      ],
      "metadata": {
        "id": "qnfUlPfsgRfv"
      },
      "execution_count": null,
      "outputs": []
    },
    {
      "cell_type": "code",
      "source": [
        "#plotting barplot \n",
        "plt.figure(figsize=(15,8))\n",
        "sp=sns.barplot(x='travel_from',y='Tickets',data=df)"
      ],
      "metadata": {
        "id": "ChXmZV8We3H-"
      },
      "execution_count": null,
      "outputs": []
    },
    {
      "cell_type": "markdown",
      "source": [
        "Inference: Maximum Tickets were from Sirare"
      ],
      "metadata": {
        "id": "ihgzQsX9SrDl"
      }
    },
    {
      "cell_type": "code",
      "source": [
        "# Dropping the columns not required"
      ],
      "metadata": {
        "id": "cC9smLQ3x_JH"
      },
      "execution_count": null,
      "outputs": []
    },
    {
      "cell_type": "code",
      "source": [
        "df = df.drop(['seat_number','payment_method','payment_receipt'], axis=1)"
      ],
      "metadata": {
        "id": "f44tIoFk5-Fd"
      },
      "execution_count": null,
      "outputs": []
    },
    {
      "cell_type": "code",
      "source": [
        "df.columns"
      ],
      "metadata": {
        "id": "yZTadb2k6KGd"
      },
      "execution_count": null,
      "outputs": []
    },
    {
      "cell_type": "code",
      "source": [
        "df.drop(['travel_to'],axis=1,inplace=True)"
      ],
      "metadata": {
        "id": "dXjGDATp6Z9I"
      },
      "execution_count": null,
      "outputs": []
    },
    {
      "cell_type": "code",
      "source": [
        "# creating new column 'date' in dataframe"
      ],
      "metadata": {
        "id": "naZ0s5JxyF2m"
      },
      "execution_count": null,
      "outputs": []
    },
    {
      "cell_type": "code",
      "source": [
        "df['date']=df['travel_date']+\" \"+df['travel_time']\n",
        "def  time_feature(data):\n",
        "\n",
        "  ''' This function takes dataframe as an argument and extracts the different features\n",
        "       from the data variable ofthe dataset and finally returns the updated dataset'''\n",
        "  df['date']=pd.to_datetime(df['date'])\n",
        "  df['day_of_week']=df['date'].dt.dayofweek\n",
        "  df['day_of_year']=df['date'].dt.dayofyear\n",
        "  df['day_of_month']=df['date'].dt.day\n",
        "  df[\"year_woy\"]=df[\"date\"].dt.year.astype(str)+df[\"date\"].dt.weekofyear.astype(str)\n",
        "  df[\"hour\"]=df[\"date\"].dt.hour\n",
        "  df[\"minute\"]=df[\"date\"].dt.minute\n",
        "  df[\"is_weekend\"]=df[\"day_of_week\"].apply( lambda x : 1 if x  in [5,6] else 0 )\n",
        "  df[\"year\"]=df[\"date\"].dt.year\n",
        "  df[\"quarter\"]=df[\"date\"].dt.quarter\n",
        "  df[\"month\"]=df[\"date\"].dt.month\n",
        "  return data"
      ],
      "metadata": {
        "id": "VNSvgxXH7lXm"
      },
      "execution_count": null,
      "outputs": []
    },
    {
      "cell_type": "code",
      "source": [
        "df_new = time_feature(df)"
      ],
      "metadata": {
        "id": "_75EbgDa7yOf"
      },
      "execution_count": null,
      "outputs": []
    },
    {
      "cell_type": "code",
      "source": [
        "# checking information of new data frame df_new"
      ],
      "metadata": {
        "id": "HMNGaN2UyPwt"
      },
      "execution_count": null,
      "outputs": []
    },
    {
      "cell_type": "code",
      "source": [
        "df_new.info()"
      ],
      "metadata": {
        "id": "vtEYwV2E78iI"
      },
      "execution_count": null,
      "outputs": []
    },
    {
      "cell_type": "code",
      "source": [
        "plt.figure(figsize=(15,8))\n",
        "sns.barplot(x='day_of_month',y='Tickets',data=df_new)"
      ],
      "metadata": {
        "id": "Hx963h56g7_e"
      },
      "execution_count": null,
      "outputs": []
    },
    {
      "cell_type": "markdown",
      "source": [
        "Inference: There is gap between 5 to 11 ,which we can assume as Holidays"
      ],
      "metadata": {
        "id": "nfnK4Ea2S0oN"
      }
    },
    {
      "cell_type": "code",
      "source": [
        "plt.figure(figsize=(15, 8))\n",
        "\n",
        "sns.scatterplot(x='hour', y=\"Tickets\", data=df_new)"
      ],
      "metadata": {
        "id": "BfwO1Dqnhgzq"
      },
      "execution_count": null,
      "outputs": []
    },
    {
      "cell_type": "markdown",
      "source": [
        "Inference:\n",
        "* We can see that most of the ticktes were sold at  7 AM and 8 PM. And that seems true because in the morning most of the people go to the work and office.\n",
        "\n",
        "* From the above we can say that there is not ride between 12pm to 5.30Pm "
      ],
      "metadata": {
        "id": "DITGTsEfTfsT"
      }
    },
    {
      "cell_type": "code",
      "source": [
        "# Replacing Categorical Values to Numerical Values"
      ],
      "metadata": {
        "id": "Rw8gXBtdyYNB"
      },
      "execution_count": null,
      "outputs": []
    },
    {
      "cell_type": "code",
      "source": [
        "df_new['car_type'].replace(['Bus', 'shuttle'],\n",
        "                        [0, 1], inplace=True)"
      ],
      "metadata": {
        "id": "mWz8au668YNf"
      },
      "execution_count": null,
      "outputs": []
    },
    {
      "cell_type": "code",
      "source": [
        "df_new['travel_from'].unique()"
      ],
      "metadata": {
        "id": "7HKR-YIDAmhu"
      },
      "execution_count": null,
      "outputs": []
    },
    {
      "cell_type": "code",
      "source": [
        "# Replacing Categorical values to numerical values"
      ],
      "metadata": {
        "id": "e-cur9h_519L"
      },
      "execution_count": null,
      "outputs": []
    },
    {
      "cell_type": "code",
      "source": [
        "df_new[\"travel_from\"].replace(['Migori', 'Keroka', 'Homa Bay', 'Kisii', 'Keumbu', 'Rongo',\n",
        "       'Kijauri', 'Oyugis', 'Awendo', 'Sirare', 'Nyachenge', 'Kehancha',\n",
        "       'Kendu Bay', 'Sori', 'Rodi', 'Mbita', 'Ndhiwa'],[0,1,2,3,4,5,6,7,8,9,10,11,12,13,14,15,16],inplace=True)"
      ],
      "metadata": {
        "id": "xk9jfc9lBF13"
      },
      "execution_count": null,
      "outputs": []
    },
    {
      "cell_type": "code",
      "source": [
        "# create variables columns not required and dropping few columns"
      ],
      "metadata": {
        "id": "cFJrFdDVylBc"
      },
      "execution_count": null,
      "outputs": []
    },
    {
      "cell_type": "code",
      "source": [
        "notreq = [\"travel_date\",\"travel_time\",\"car_type\",\"year_woy\"]"
      ],
      "metadata": {
        "id": "Rw1r2rVQCEUX"
      },
      "execution_count": null,
      "outputs": []
    },
    {
      "cell_type": "code",
      "source": [
        "df_new.drop(columns = \"travel_date\",inplace= True)"
      ],
      "metadata": {
        "id": "25Ziv23EBtoW"
      },
      "execution_count": null,
      "outputs": []
    },
    {
      "cell_type": "code",
      "source": [
        "df_new.drop(columns = \"travel_time\",inplace= True)"
      ],
      "metadata": {
        "id": "26bV49fpCzcN"
      },
      "execution_count": null,
      "outputs": []
    },
    {
      "cell_type": "code",
      "source": [
        "df_new.drop(columns = \"year_woy\",inplace= True)"
      ],
      "metadata": {
        "id": "OVMqdfxoC2X9"
      },
      "execution_count": null,
      "outputs": []
    },
    {
      "cell_type": "code",
      "source": [
        "df_new.info()"
      ],
      "metadata": {
        "id": "Ftz_39t89bgE"
      },
      "execution_count": null,
      "outputs": []
    },
    {
      "cell_type": "code",
      "source": [
        "# useing heatmap for findding correlation"
      ],
      "metadata": {
        "id": "U14KIfd2yxqr"
      },
      "execution_count": null,
      "outputs": []
    },
    {
      "cell_type": "code",
      "source": [
        "plt.figure(figsize=(15,10))\n",
        "sns.heatmap(df_new.corr())"
      ],
      "metadata": {
        "id": "vApnsMFQim33",
        "colab": {
          "base_uri": "https://localhost:8080/",
          "height": 673
        },
        "outputId": "cc4f4b30-52db-4124-92fa-92ddd007b064"
      },
      "execution_count": null,
      "outputs": [
        {
          "output_type": "execute_result",
          "data": {
            "text/plain": [
              "<matplotlib.axes._subplots.AxesSubplot at 0x7f7225c26210>"
            ]
          },
          "metadata": {},
          "execution_count": 108
        },
        {
          "output_type": "display_data",
          "data": {
            "text/plain": [
              "<Figure size 1080x720 with 2 Axes>"
            ],
            "image/png": "[encoded data removed]"
          },
          "metadata": {
            "needs_background": "light"
          }
        }
      ]
    },
    {
      "cell_type": "markdown",
      "source": [
        "Inference:\n",
        "we can see the correlation between the data columns\n",
        "\n",
        "\n",
        "*   Positive Correlation from 0 to 1\n",
        "*   Negative Correlation from 0 to -1\n",
        "\n",
        "\n"
      ],
      "metadata": {
        "id": "lyEAe55MUJQA"
      }
    },
    {
      "cell_type": "code",
      "source": [
        "df_new.drop(columns = \"date\",axis=1,inplace= True)"
      ],
      "metadata": {
        "id": "sVmjY-NgANV7"
      },
      "execution_count": null,
      "outputs": []
    },
    {
      "cell_type": "markdown",
      "source": [
        "**Importing Libraries**"
      ],
      "metadata": {
        "id": "NL3rmMr2U_bF"
      }
    },
    {
      "cell_type": "code",
      "source": [
        "from sklearn import metrics\n",
        "import math\n",
        "from sklearn.model_selection import train_test_split\n",
        "from sklearn.ensemble import GradientBoostingRegressor\n",
        "from sklearn.metrics import mean_absolute_error, mean_squared_error,r2_score\n",
        "import math\n",
        "from xgboost import XGBRegressor\n",
        "from sklearn.model_selection import GridSearchCV\n",
        "from sklearn.model_selection import RandomizedSearchCV\n",
        "from sklearn.linear_model import LinearRegression\n",
        "from sklearn.metrics import r2_score\n"
      ],
      "metadata": {
        "id": "w3_Uz-sx9p1a"
      },
      "execution_count": null,
      "outputs": []
    },
    {
      "cell_type": "markdown",
      "source": [
        "**Linear Regression**"
      ],
      "metadata": {
        "id": "A2mpm7vIkP_Z"
      }
    },
    {
      "cell_type": "code",
      "source": [
        "#Getting X and Y variable\n",
        "dependent_variable = 'Tickets'\n",
        "independent_variables = list(set(df_new.columns.tolist()) - {dependent_variable})"
      ],
      "metadata": {
        "id": "XdJxjz2b-ObK"
      },
      "execution_count": null,
      "outputs": []
    },
    {
      "cell_type": "code",
      "source": [
        "X = df_new[independent_variables].values\n",
        "y = df_new[dependent_variable].values\n",
        "X_train, X_test, y_train, y_test = train_test_split(X,y,test_size=0.20, random_state=42)"
      ],
      "metadata": {
        "id": "Uk1qoo8m_pol"
      },
      "execution_count": null,
      "outputs": []
    },
    {
      "cell_type": "code",
      "source": [
        "#Imported Library  MinMAxScaler"
      ],
      "metadata": {
        "id": "gD5poH5Ry73E"
      },
      "execution_count": null,
      "outputs": []
    },
    {
      "cell_type": "code",
      "source": [
        "from sklearn.preprocessing import MinMaxScaler\n"
      ],
      "metadata": {
        "id": "0YryAYNtEVqP"
      },
      "execution_count": null,
      "outputs": []
    },
    {
      "cell_type": "code",
      "source": [
        "scaler = MinMaxScaler()\n",
        "X_train = scaler.fit_transform(X_train)\n",
        "X_test = scaler.transform(X_test)"
      ],
      "metadata": {
        "id": "7L6o6JbdEPQW"
      },
      "execution_count": null,
      "outputs": []
    },
    {
      "cell_type": "code",
      "source": [
        "# implementing Linear Regressor"
      ],
      "metadata": {
        "id": "QjSpvLuszH2f"
      },
      "execution_count": null,
      "outputs": []
    },
    {
      "cell_type": "code",
      "source": [
        "regressor = LinearRegression()\n",
        "regressor.fit(X_train, y_train)\n",
        "regressor.intercept_\n",
        "regressor.coef_\n",
        "y_pred_train = regressor.predict(X_train)\n",
        "y_pred = regressor.predict(X_test)\n"
      ],
      "metadata": {
        "id": "axOtFdef_fNe"
      },
      "execution_count": null,
      "outputs": []
    },
    {
      "cell_type": "code",
      "source": [
        "# Intercept Values\n",
        "regressor.intercept_"
      ],
      "metadata": {
        "id": "xe755UIikqWE"
      },
      "execution_count": null,
      "outputs": []
    },
    {
      "cell_type": "code",
      "source": [
        "# Coefficent Values\n",
        "regressor.coef_"
      ],
      "metadata": {
        "id": "HkP_5Ev2ksZX"
      },
      "execution_count": null,
      "outputs": []
    },
    {
      "cell_type": "code",
      "source": [
        "# Mean Square Error \n",
        "mean_squared_error(y_test, y_pred)"
      ],
      "metadata": {
        "id": "tfXvVz5x_-5s"
      },
      "execution_count": null,
      "outputs": []
    },
    {
      "cell_type": "code",
      "source": [
        "#R2 Score values for train and test split\n",
        "r2_score(y_train, y_pred_train)"
      ],
      "metadata": {
        "id": "HPyoCBrDDVWf"
      },
      "execution_count": null,
      "outputs": []
    },
    {
      "cell_type": "code",
      "source": [
        "r2_score(y_test, y_pred)"
      ],
      "metadata": {
        "id": "NwO8LfgqDVTm"
      },
      "execution_count": null,
      "outputs": []
    },
    {
      "cell_type": "code",
      "source": [
        "print(\"Adjusted R2 : \",1-(1-r2_score(y_test, y_pred))*((X_test.shape[0]-1)/(X_test.shape[0]-X_test.shape[1]-1)))"
      ],
      "metadata": {
        "id": "k5OAdUWIXsGL"
      },
      "execution_count": null,
      "outputs": []
    },
    {
      "cell_type": "markdown",
      "source": [
        "Inference: R2 for train and test split prediction is 0.38\n",
        "we conclude that a model performance is low\n",
        "Hence we go for Regularization and Hypertunning "
      ],
      "metadata": {
        "id": "R6DChE4rVaWW"
      }
    },
    {
      "cell_type": "markdown",
      "source": [
        "**Implementing Lasso Regressor** "
      ],
      "metadata": {
        "id": "T9blqpXomHHh"
      }
    },
    {
      "cell_type": "code",
      "source": [
        "# Implementing Lasso Regressor for Minimizing Error for quantitative response variable"
      ],
      "metadata": {
        "id": "AU-cPXW9WCCx"
      },
      "execution_count": null,
      "outputs": []
    },
    {
      "cell_type": "code",
      "source": [
        "from sklearn.linear_model import Lasso"
      ],
      "metadata": {
        "id": "odshQLl-lXk9"
      },
      "execution_count": null,
      "outputs": []
    },
    {
      "cell_type": "code",
      "source": [
        "# X and Y values "
      ],
      "metadata": {
        "id": "sP3nrITm0Jgi"
      },
      "execution_count": null,
      "outputs": []
    },
    {
      "cell_type": "code",
      "source": [
        "X = df_new[independent_variables].values\n",
        "y = df_new[dependent_variable].values\n",
        "X_train, X_test, y_train, y_test = train_test_split(X,y,test_size=0.20, random_state=42)\n",
        "\n",
        "alphas = [0.01,0.025,0.5,0.75,1]\n",
        "for alpha in alphas:\n",
        "  lasso  = Lasso(alpha=alpha , max_iter= 3000)\n",
        "  lasso.fit(X_train, y_train)\n",
        "  print('alpha: ',alpha)\n",
        "  print('test Score: ',lasso.score(X_test, y_test))\n",
        "  print('train Score: ',lasso.score(X_train, y_train))\n"
      ],
      "metadata": {
        "id": "6YTf01qMDVFd"
      },
      "execution_count": null,
      "outputs": []
    },
    {
      "cell_type": "code",
      "source": [
        "# Best Alpha and Max_iter Values"
      ],
      "metadata": {
        "id": "62S9XA8q0WYe"
      },
      "execution_count": null,
      "outputs": []
    },
    {
      "cell_type": "code",
      "source": [
        "lasso  = Lasso(alpha=0.01 , max_iter= 3000)\n",
        "lasso.fit(X_train, y_train)"
      ],
      "metadata": {
        "id": "wyejFLfpltuH"
      },
      "execution_count": null,
      "outputs": []
    },
    {
      "cell_type": "code",
      "source": [
        "# Y_test predicted values of MSE,RMSE,MAE"
      ],
      "metadata": {
        "id": "wCW8FlTq0gAO"
      },
      "execution_count": null,
      "outputs": []
    },
    {
      "cell_type": "code",
      "source": [
        "y_test_pred = lasso.predict(X_test)\n",
        "\n",
        "print('MSE is {}'.format(mean_squared_error(y_test, y_test_pred)))\n",
        "print('RMSE is {}'.format(math.sqrt(mean_squared_error(y_test, y_test_pred))))\n",
        "print('MAE is {}'.format(mean_absolute_error(y_test, y_test_pred)))"
      ],
      "metadata": {
        "id": "dvo-duDxlxGL"
      },
      "execution_count": null,
      "outputs": []
    },
    {
      "cell_type": "code",
      "source": [
        "# R2 and Adjusted R2 values"
      ],
      "metadata": {
        "id": "PFLybpZW0wwg"
      },
      "execution_count": null,
      "outputs": []
    },
    {
      "cell_type": "code",
      "source": [
        "r2 = r2_score(y_test, y_test_pred)\n",
        "print(\"R2 :\" ,r2)\n",
        "print(\"Adjusted R2 : \",1-(1-r2_score(y_test, y_test_pred))*((X_test.shape[0]-1)/(X_test.shape[0]-X_test.shape[1]-1)))"
      ],
      "metadata": {
        "id": "kmh9cySgl5Lj"
      },
      "execution_count": null,
      "outputs": []
    },
    {
      "cell_type": "markdown",
      "source": [
        "Inference: R2 for train and test split prediction is 0.38\n",
        "we conclude that a model performance is low.\n"
      ],
      "metadata": {
        "id": "ZMXL_r6FWUUH"
      }
    },
    {
      "cell_type": "markdown",
      "source": [
        "**Implementing Ridge Regressor**"
      ],
      "metadata": {
        "id": "DTnsbCmemVlK"
      }
    },
    {
      "cell_type": "code",
      "source": [
        "#Ridge regressor for the coefficients of multiple-regression models in scenarios where the independent variables are highly correlated"
      ],
      "metadata": {
        "id": "F8iDNIKsWrxk"
      },
      "execution_count": null,
      "outputs": []
    },
    {
      "cell_type": "code",
      "source": [
        "from sklearn.linear_model import Ridge\n",
        "from sklearn.model_selection import GridSearchCV\n",
        "import sklearn.metrics as metrics"
      ],
      "metadata": {
        "id": "hvRzgtELmVEL"
      },
      "execution_count": null,
      "outputs": []
    },
    {
      "cell_type": "code",
      "source": [
        "#Hypertunning\n",
        "X = df_new[independent_variables].values\n",
        "y = df_new[dependent_variable].values\n",
        "X_train, X_test, y_train, y_test = train_test_split(X,y,test_size=0.33, random_state=42)\n",
        "ridge = Ridge()\n",
        "parameters = {'alpha': [1e-15,1e-10,1e-8,1e-5,1e-4,1e-3,1e-2,1,5,10,20,30,40,45,50,55,60,100]}\n",
        "ridge_regressor = GridSearchCV(ridge, parameters, scoring='neg_mean_squared_error', cv=3)\n",
        "ridge_regressor.fit(X_train,y_train)"
      ],
      "metadata": {
        "id": "9E0rQOgympRo"
      },
      "execution_count": null,
      "outputs": []
    },
    {
      "cell_type": "code",
      "source": [
        "# Best fit Alpha Values"
      ],
      "metadata": {
        "id": "C5u8Hljc048I"
      },
      "execution_count": null,
      "outputs": []
    },
    {
      "cell_type": "code",
      "source": [
        "print(\"The best fit alpha value is found out to be :\" ,ridge_regressor.best_params_)\n",
        "print(\"\\nUsing \",ridge_regressor.best_params_, \" the negative mean squared error is: \", ridge_regressor.best_score_)"
      ],
      "metadata": {
        "id": "vpADP0xYm_XH"
      },
      "execution_count": null,
      "outputs": []
    },
    {
      "cell_type": "code",
      "source": [
        "#R2 and Adjusted R2 values for Rigde Regressor"
      ],
      "metadata": {
        "id": "69ITw3a01AR8"
      },
      "execution_count": null,
      "outputs": []
    },
    {
      "cell_type": "code",
      "source": [
        "y_pred_ridge = ridge_regressor.predict(X_test)\n",
        "print(ridge_regressor.score(X_train,y_train))\n",
        "print(ridge_regressor.score(X_test,y_test))\n",
        "\n",
        "\n",
        "\n",
        "r2 = r2_score(y_test, y_pred_ridge)\n",
        "print(\"R2 :\" ,r2)\n",
        "print(\"Adjusted R2 : \",1-(1-r2_score(y_test, y_pred_ridge))*((X_test.shape[0]-1)/(X_test.shape[0]-X_test.shape[1]-1)))"
      ],
      "metadata": {
        "id": "BRpc4BhQnGfh"
      },
      "execution_count": null,
      "outputs": []
    },
    {
      "cell_type": "markdown",
      "source": [
        "Inference:R2 for train and test split prediction is 0.38\n",
        "we conclude that a model performance is still low."
      ],
      "metadata": {
        "id": "2aq5hprLW3rV"
      }
    },
    {
      "cell_type": "markdown",
      "source": [
        "**XGBoost Regressor**"
      ],
      "metadata": {
        "id": "EBjmdG0Fk2Av"
      }
    },
    {
      "cell_type": "code",
      "source": [
        "# Implementing xgboost regressor for regressor"
      ],
      "metadata": {
        "id": "Vjw7m_CQXIKU"
      },
      "execution_count": null,
      "outputs": []
    },
    {
      "cell_type": "code",
      "source": [
        "import xgboost as xgb\n",
        "\n",
        "X = df_new[independent_variables].values\n",
        "y = df_new[dependent_variable].values\n",
        "\n",
        "X_train, X_test, y_train, y_test = train_test_split(X,y,test_size=0.20, random_state=42)\n",
        "dreg= xgb.XGBRegressor(\n",
        "                        booster= 'gbtree',\n",
        "                        colsample_bylevel= 1,\n",
        "                        colsample_bynode= 1,\n",
        "                        colsample_bytree= 0.7,\n",
        "                        eta= 0.004,\n",
        "                        gamma= 0,\n",
        "                        importance_type= 'gain',\n",
        "                        learning_rate= 0.1,\n",
        "                        max_delta_step= 0,\n",
        "                        max_depth= 9,\n",
        "                        min_child_weight= 10,\n",
        "                        n_estimators= 100,\n",
        "                        n_jobs= 1,\n",
        "                        objective= 'reg:linear',\n",
        "                        random_state= 0,\n",
        "                        reg_alpha= 0,\n",
        "                        reg_lambda= 1,\n",
        "                        scale_pos_weight= 1,\n",
        "                        subsample= 1,\n",
        "                        verbosity= 1)\n",
        "dreg.fit(X_train, y_train)\n",
        "y_pred_train=dreg.predict(X_train)\n",
        "y_pred = dreg.predict(X_test)\n",
        "#Find R-squared value\n",
        "r2 = r2_score(y_test, y_pred)\n",
        "r2_train = r2_score(y_train, y_pred_train)\n",
        "# Find Adjusted R-squared value\n",
        "adj_r2=1-(1-r2_score(y_test, y_pred))*((X_test.shape[0]-1)/(X_test.shape[0]-X_test.shape[1]-1))\n",
        "train_score = dreg.score(X_train, y_train)\n",
        "test_score = dreg.score(X_test,y_test)\n",
        "print(f'Train score: {train_score}')\n",
        "print(f'Test score: {test_score}')\n",
        "adj_r2\n",
        "r2\n",
        "r2_train"
      ],
      "metadata": {
        "id": "6X6Ty8r597Kf"
      },
      "execution_count": null,
      "outputs": []
    },
    {
      "cell_type": "code",
      "source": [
        "# R2 and Adjusted R2 values for XGBoost Regressor"
      ],
      "metadata": {
        "id": "27meQPVe1Sgy"
      },
      "execution_count": null,
      "outputs": []
    },
    {
      "cell_type": "code",
      "source": [
        "adj_r2"
      ],
      "metadata": {
        "id": "avLVKevRDxB7"
      },
      "execution_count": null,
      "outputs": []
    },
    {
      "cell_type": "code",
      "source": [
        "r2"
      ],
      "metadata": {
        "id": "Ylh5RPaNDzpb"
      },
      "execution_count": null,
      "outputs": []
    },
    {
      "cell_type": "code",
      "source": [
        "r2_train"
      ],
      "metadata": {
        "id": "oS0yk-E_D1kH"
      },
      "execution_count": null,
      "outputs": []
    },
    {
      "cell_type": "code",
      "source": [
        "print('MSE is {}'.format(mean_squared_error(y_test, y_pred)))"
      ],
      "metadata": {
        "id": "p970GE4Zndm5"
      },
      "execution_count": null,
      "outputs": []
    },
    {
      "cell_type": "code",
      "source": [
        "print('MAE is {}'.format(mean_absolute_error(y_test, y_pred)))"
      ],
      "metadata": {
        "id": "M9SBhHuVn0u5"
      },
      "execution_count": null,
      "outputs": []
    },
    {
      "cell_type": "markdown",
      "source": [
        "Inference: R2 for train and test split prediction is 0.92\n",
        "we conclude that a model performance is very high and fall under the accepted range."
      ],
      "metadata": {
        "id": "8rwWK-e5XYt4"
      }
    },
    {
      "cell_type": "markdown",
      "source": [
        "**We will be using  algorithms for each :**\n",
        "\n",
        " **GridSearchCV** \n",
        " \n",
        " **Hypertunning**\n"
      ],
      "metadata": {
        "id": "4JLSYJ07oNkn"
      }
    },
    {
      "cell_type": "code",
      "source": [
        "import xgboost as xgb\n",
        "\n",
        "xgb = xgb.XGBRegressor()"
      ],
      "metadata": {
        "id": "sIpRnEQeojHR"
      },
      "execution_count": null,
      "outputs": []
    },
    {
      "cell_type": "code",
      "source": [
        "# Parameters for Hypertunning"
      ],
      "metadata": {
        "id": "8jIBVnMxYG-B"
      },
      "execution_count": null,
      "outputs": []
    },
    {
      "cell_type": "code",
      "source": [
        "params = {\"min_child_weight\":[10,20], \n",
        "            'eta': [0.004,0.04,4,40], \n",
        "            'colsample_bytree':[0.7], \n",
        "            'max_depth': [7,9,11],\n",
        "          \n",
        "          }"
      ],
      "metadata": {
        "id": "WVYQCxyzoqFh"
      },
      "execution_count": null,
      "outputs": []
    },
    {
      "cell_type": "code",
      "source": [
        "# Gridsearchcv implementation"
      ],
      "metadata": {
        "id": "oBoI0AJP1iqP"
      },
      "execution_count": null,
      "outputs": []
    },
    {
      "cell_type": "code",
      "source": [
        "X = df_new[independent_variables].values\n",
        "y = df_new[dependent_variable].values\n",
        "\n",
        "# X_train, X_test, y_train, y_test = train_test_split(X,y,test_size=0.33, random_state=42)\n",
        "reg_gs = GridSearchCV(xgb,param_grid=params, verbose=1,cv=3)\n",
        "reg_gs.fit(X, y)"
      ],
      "metadata": {
        "id": "bJDrc5EHouOJ"
      },
      "execution_count": null,
      "outputs": []
    },
    {
      "cell_type": "code",
      "source": [
        "# Best Estimotor parameters"
      ],
      "metadata": {
        "id": "Sh7Ow6acYQdw"
      },
      "execution_count": null,
      "outputs": []
    },
    {
      "cell_type": "code",
      "source": [
        "reg_gs.best_estimator_.get_params()"
      ],
      "metadata": {
        "id": "1NqYQdysqVJw"
      },
      "execution_count": null,
      "outputs": []
    },
    {
      "cell_type": "code",
      "source": [
        "reg_optimal_model =reg_gs.best_estimator_\n",
        "train_preds = reg_optimal_model.predict(X_train)\n",
        "test_preds = reg_optimal_model.predict(X_test)"
      ],
      "metadata": {
        "id": "jxsSHKWyqW_C"
      },
      "execution_count": null,
      "outputs": []
    },
    {
      "cell_type": "code",
      "source": [
        "reg_optimal_model.score(X_train,y_train)\n",
        "reg_optimal_model.score(X_test,y_test)"
      ],
      "metadata": {
        "id": "NWun-zmjqkDS"
      },
      "execution_count": null,
      "outputs": []
    },
    {
      "cell_type": "code",
      "source": [
        "r2_test = r2_score(y_test, test_preds)\n",
        "adj_r2=1-(1-r2_score(y_test, test_preds))*((X_test.shape[0]-1)/(X_test.shape[0]-X_test.shape[1]-1))"
      ],
      "metadata": {
        "id": "kkSyi0iwqoLa"
      },
      "execution_count": null,
      "outputs": []
    },
    {
      "cell_type": "code",
      "source": [
        "# R2 and Adjusted R2 values for GridsearchCV regressor"
      ],
      "metadata": {
        "id": "3QQP8FJF19No"
      },
      "execution_count": null,
      "outputs": []
    },
    {
      "cell_type": "code",
      "source": [
        "print(r2_test)\n",
        "print(adj_r2)"
      ],
      "metadata": {
        "id": "3rzsZ37xqy46"
      },
      "execution_count": null,
      "outputs": []
    },
    {
      "cell_type": "code",
      "source": [
        "print('MAE is {}'.format(mean_absolute_error(y_test, test_preds)))"
      ],
      "metadata": {
        "id": "eMdArBJMoyDV"
      },
      "execution_count": null,
      "outputs": []
    },
    {
      "cell_type": "code",
      "source": [
        "print('MSE is {}'.format(mean_squared_error(y_test, test_preds)))"
      ],
      "metadata": {
        "id": "VyrA1ktHo59k"
      },
      "execution_count": null,
      "outputs": []
    },
    {
      "cell_type": "markdown",
      "source": [
        "Inference:R2 value for Gridsearch Cv for XGBoost Regressor is 0.98\n",
        "we conclude that a model considered as very high and fall under the accepted range"
      ],
      "metadata": {
        "id": "CY9HkPqEYYux"
      }
    },
    {
      "cell_type": "markdown",
      "source": [
        "### **Conclusion**\n",
        "\n",
        "**We used diffent type of regression algorithms to train our model like, Linear Regression, Regularized linear regression (Ridge and Lasso),XGboost regresssor and Also we tuned the parameters of  XGboost regressor and also found the important features for training the model. Out of them XGboost with tuned hyperparameters gave the best result.**"
      ],
      "metadata": {
        "id": "7j75VV49Yv8X"
      }
    },
    {
      "cell_type": "markdown",
      "source": [
        "**This resulting model can be used by Mobiticket and bus operators to anticipate customer demand for certain rides, to manage resources and vehicles more efficiently, to offer promotions and sell other services more effectively, such as micro-insurance, or even improve customer service by being able to send alerts and other useful information to customers. We used different type of regression algorithms to train our model like, out of them XG Boost with tuned hyperparameters gave the best result**"
      ],
      "metadata": {
        "id": "pfQuVJGz06IH"
      }
    },
    {
      "cell_type": "markdown",
      "source": [
        "**Summary**\n",
        "\n",
        "Challenges faced\n",
        "Feature engineering – to get the more required features that will ease the further analysis\n",
        "\n",
        "What should be the dependent variables\n",
        "\n",
        "To filter the given data\n",
        "Feature to be selected to get the required output\n"
      ],
      "metadata": {
        "id": "GhKjZtiY1Dqe"
      }
    },
    {
      "cell_type": "markdown",
      "source": [
        "Transport Demand was done by the 4 members of group-Syed Aquib,Ganesh Subramanian,Mayur Chulbhare,Abhishek kirar. In this project we selected Global Terrorism Analysis as a CSV file.\n",
        "\n",
        "As soon as we downloaded the CSV file from Almabetter Dashboard we uploaded the file in colab notebook through the drive.we were having no idea about the project as this was a first project. All the member in group were parcipated equally throughout the project. As a team we read the data present in the file and gone through the data in each columns detailed as individual.The data was huge which some of it was not needed for the analysis.\n",
        "\n",
        "The data was cleaned and created the new dataframe were columns we required for the analysis.Each and every columns were compared to gain the knowledge about the data.Worked individually gaining some insights doing some EDA. The first problem we faced was the name of the columns and nan values present in the data.We renamed the columns by using a dictionary format, we replaced all nan values to Zero in int dtype and unknown in object dtype by using .replace syntax. By getting info of dataframe we plotted graphs for each data to understand and visualized thoroughly.we splitted data into training and testing to predict model.We predictted modelling by using Linear Regressor,Regularized linear regression (Ridge and Lasso),XGboost regresssor and Also we tuned the parameters of  XGboost regressor and also found the important features for training the model. Out of them XGboost with tuned hyperparameters gave the best result."
      ],
      "metadata": {
        "id": "Bxn4Qhal3KCv"
      }
    }
  ]
}